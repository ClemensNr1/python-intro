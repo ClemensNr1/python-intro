{
 "cells": [
  {
   "cell_type": "code",
   "execution_count": 1,
   "metadata": {},
   "outputs": [
    {
     "name": "stderr",
     "output_type": "stream",
     "text": [
      "2023-05-24 18:49:22.752363: I tensorflow/tsl/cuda/cudart_stub.cc:28] Could not find cuda drivers on your machine, GPU will not be used.\n",
      "2023-05-24 18:49:25.985998: I tensorflow/tsl/cuda/cudart_stub.cc:28] Could not find cuda drivers on your machine, GPU will not be used.\n",
      "2023-05-24 18:49:25.987011: I tensorflow/core/platform/cpu_feature_guard.cc:182] This TensorFlow binary is optimized to use available CPU instructions in performance-critical operations.\n",
      "To enable the following instructions: AVX2 AVX512F FMA, in other operations, rebuild TensorFlow with the appropriate compiler flags.\n",
      "2023-05-24 18:49:31.862751: W tensorflow/compiler/tf2tensorrt/utils/py_utils.cc:38] TF-TRT Warning: Could not find TensorRT\n"
     ]
    }
   ],
   "source": [
    "import numpy as np\n",
    "from tensorflow import keras\n",
    "from keras import layers\n",
    "\n",
    "import numpy as np\n",
    "import matplotlib.pyplot as plt\n",
    "import seaborn\n",
    "from matplotlib.pyplot import figure"
   ]
  },
  {
   "cell_type": "markdown",
   "metadata": {
    "collapsed": false
   },
   "source": [
    "# Training eines Neuronalen Netzes\n",
    "\n",
    "Das Training eines Neuronalen Netzes erfolgt in mehreren Schritten:\n",
    "\n",
    "=> Eingangsdaten bestehend aus Daten und sogenannter Annotation (z.B. Zuordnung zu einer bestimmten Klasse)\n",
    "=> Das ML Model \"versucht\" (zunächst im untrainierten Zustand) eine Vorhersage (d.h. Klassenzuordnung)\n",
    "=> Trifft das ML Model die ursprüngliche Annotation ist das \"gut\", falls nicht, \"schlecht\"\n",
    "=> Die Anzahl der korrekten und falschen Treffer ergeben einen sogenannten \"Verlust\"\n",
    "=> Mit Hilfe eines Optimierungsverfahrens wird versucht, das Model zu optimieren, also den Verlust zu senken:\n",
    "\n",
    "![image](../img/training.png)"
   ]
  },
  {
   "cell_type": "markdown",
   "metadata": {
    "collapsed": false
   },
   "source": [
    "# Laden der Daten und Aufteilung in Train und Test Daten\n",
    "\n",
    "Um die Güte eines trainierten Modells zu testen, werden sogenannte Test-Daten zurückgehalen. Diese Daten hat das Modell noch nie gesehen. So kann gemessen werden, wie gut das Netz generalisiert, also mit unbekannten Daten umgehen kann.\n",
    "\n",
    "![image](../img/test_train_split.png)"
   ]
  },
  {
   "cell_type": "code",
   "execution_count": 2,
   "metadata": {
    "collapsed": false
   },
   "outputs": [
    {
     "name": "stdout",
     "output_type": "stream",
     "text": [
      "Downloading data from https://storage.googleapis.com/tensorflow/tf-keras-datasets/mnist.npz\n",
      "11490434/11490434 [==============================] - 0s 0us/step\n"
     ]
    }
   ],
   "source": [
    "# a) Daten laden (mnist Data-Set)\n",
    "# b) Test-Train-Split durchführen\n",
    "(x_train, y_train), (x_test, y_test) = keras.datasets.mnist.load_data()"
   ]
  },
  {
   "cell_type": "markdown",
   "metadata": {
    "collapsed": false
   },
   "source": [
    "# Daten vorbereiten\n",
    "\n",
    "Im Machine Learning muss man in der Regel die Daten vorbereiten und aufbereiten.\n",
    "Hierbei muss sichergestellt werden, dass die Daten fürs Training geeignet sind."
   ]
  },
  {
   "cell_type": "code",
   "execution_count": 3,
   "metadata": {},
   "outputs": [
    {
     "name": "stdout",
     "output_type": "stream",
     "text": [
      "60000 train samples\n",
      "10000 test samples\n",
      "x_train shape: (60000, 28, 28, 1)\n",
      "y_train shape: (60000, 10)\n"
     ]
    }
   ],
   "source": [
    "# Model / data parameters\n",
    "num_classes = 10\n",
    "input_shape = (28, 28, 1)\n",
    "\n",
    "# Scale images to the [0, 1] range\n",
    "x_train = x_train.astype(\"float32\") / 255\n",
    "x_test = x_test.astype(\"float32\") / 255\n",
    "# Make sure images have shape (28, 28, 1)\n",
    "x_train = np.expand_dims(x_train, -1)\n",
    "x_test = np.expand_dims(x_test, -1)\n",
    "print(x_train.shape[0], \"train samples\")\n",
    "print(x_test.shape[0], \"test samples\")\n",
    "\n",
    "# convert class vectors to binary class matrices\n",
    "y_train = keras.utils.to_categorical(y_train, num_classes)\n",
    "y_test = keras.utils.to_categorical(y_test, num_classes)\n",
    "\n",
    "# give some shape infos\n",
    "print(\"x_train shape:\", x_train.shape)\n",
    "print(\"y_train shape:\", y_train.shape)\n"
   ]
  },
  {
   "cell_type": "markdown",
   "metadata": {
    "collapsed": false
   },
   "source": [
    "# Ausgabe von Beispiel-Daten\n",
    "\n",
    "Folgender Code dient (lediglich) dazu, einige zufällig ausgewählte Beispiel-Bilder und deren Annotation anzuzeigen."
   ]
  },
  {
   "cell_type": "code",
   "execution_count": 8,
   "metadata": {},
   "outputs": [
    {
     "name": "stderr",
     "output_type": "stream",
     "text": [
      "/home/codespace/.local/lib/python3.10/site-packages/matplotlib/text.py:1279: FutureWarning: elementwise comparison failed; returning scalar instead, but in the future will perform elementwise comparison\n",
      "  if s != self._text:\n"
     ]
    },
    {
     "data": {
      "image/png": "[encoded data removed]",
      "text/plain": [
       "<Figure size 1000x300 with 4 Axes>"
      ]
     },
     "metadata": {},
     "output_type": "display_data"
    }
   ],
   "source": [
    "seaborn.set_style('white')\n",
    "fig, axs = plt.subplots(nrows=1, ncols=4, figsize=(10,3))\n",
    "\n",
    "# Empty list containers to collect image infos\n",
    "images=[None]*4\n",
    "y_images=[None]*4\n",
    "\n",
    "# Grap some random images and y_test values\n",
    "for idx,image_nr in enumerate([10,758,456,1209]):\n",
    "    images[idx]=x_test[image_nr]\n",
    "    y_images[idx]=y_test[image_nr]\n",
    "\n",
    "# Print images and y_test values\n",
    "for i, ax in enumerate(axs.flatten()):\n",
    "    plt.sca(ax)\n",
    "    plt.imshow(images[i])\n",
    "    plt.title(y_images[i].astype(int))\n",
    "\n",
    "# Visualize images\n",
    "plt.suptitle('Beispiel-Bilder mit Annotation')\n",
    "plt.show()"
   ]
  },
  {
   "cell_type": "markdown",
   "metadata": {
    "collapsed": false
   },
   "source": [
    "# Ein Neuronales Netz\n",
    "\n",
    "Neuronale Netze bestehen aus sogenannten Neuronen - das sind letztlich mathematische Funktionen -, die in Ebenen angeordnet werden.\n",
    "\n",
    "![image](../img/neural_network.png)"
   ]
  },
  {
   "cell_type": "markdown",
   "metadata": {
    "collapsed": false
   },
   "source": [
    "# Aufbau eines Neuronalen Netzes mit Hilfe von Keras\n",
    "\n",
    "Keras ist ein sehr stark abstrahierendes Framework, mit dessen Hilfe neuronale Netze einfach erstellt, trainiert und angewendet werden können."
   ]
  },
  {
   "cell_type": "code",
   "execution_count": 9,
   "metadata": {},
   "outputs": [
    {
     "name": "stdout",
     "output_type": "stream",
     "text": [
      "Model build done.\n"
     ]
    }
   ],
   "source": [
    "model = keras.Sequential(\n",
    "    [\n",
    "        keras.Input(shape=input_shape),\n",
    "        layers.Conv2D(32, kernel_size=(3, 3), activation=\"relu\"),\n",
    "        layers.MaxPooling2D(pool_size=(2, 2)),\n",
    "        layers.Conv2D(64, kernel_size=(3, 3), activation=\"relu\"),\n",
    "        layers.MaxPooling2D(pool_size=(2, 2)),\n",
    "        layers.Flatten(),\n",
    "        layers.Dropout(0.5),\n",
    "        layers.Dense(num_classes, activation=\"softmax\"),\n",
    "    ]\n",
    ")\n",
    "print (\"Model build done.\")"
   ]
  },
  {
   "cell_type": "markdown",
   "metadata": {
    "collapsed": false
   },
   "source": [
    "# Optionale Visualisierung\n",
    "\n",
    "Es gibt eine Reihe von Frameworks, mit deren Hilfe Neuronale Netzwerke visualisiert werden können. 'visualkeras' ist ein Beispiel hierfür."
   ]
  },
  {
   "cell_type": "code",
   "execution_count": 10,
   "metadata": {},
   "outputs": [
    {
     "data": {
      "image/png": "[encoded data removed]",
      "text/plain": [
       "<PIL.Image.Image image mode=RGBA size=521x139>"
      ]
     },
     "execution_count": 10,
     "metadata": {},
     "output_type": "execute_result"
    }
   ],
   "source": [
    "import visualkeras\n",
    "\n",
    "visualkeras.layered_view(model)\n"
   ]
  },
  {
   "cell_type": "markdown",
   "metadata": {
    "collapsed": false
   },
   "source": [
    "# Training des Neuronalen Netzes\n",
    "\n",
    "Ein mit Hife von Keras erstelltes Neuronales Netzwerk kann mit nur einem einzigen Befehl - dem Befehl 'fit' - trainiert werden.\n",
    "Natürlich gibt es für die (spätere) Optimierung sehr viele Möglichkeiten zur Anpassung und Konfiguration.\n",
    "\n",
    "## Keras ist ein leichtgewichtiger Einstieg für Anfänger:innen!"
   ]
  },
  {
   "cell_type": "code",
   "execution_count": 11,
   "metadata": {},
   "outputs": [
    {
     "name": "stderr",
     "output_type": "stream",
     "text": [
      "2023-05-24 18:55:16.731723: W tensorflow/tsl/framework/cpu_allocator_impl.cc:83] Allocation of 169344000 exceeds 10% of free system memory.\n"
     ]
    },
    {
     "name": "stdout",
     "output_type": "stream",
     "text": [
      "Epoch 1/3\n",
      "  3/422 [..............................] - ETA: 22s - loss: 2.2994 - accuracy: 0.1250 "
     ]
    },
    {
     "name": "stderr",
     "output_type": "stream",
     "text": [
      "2023-05-24 18:55:19.586514: W tensorflow/tsl/framework/cpu_allocator_impl.cc:83] Allocation of 17981568 exceeds 10% of free system memory.\n",
      "2023-05-24 18:55:19.586611: W tensorflow/tsl/framework/cpu_allocator_impl.cc:83] Allocation of 17981568 exceeds 10% of free system memory.\n",
      "2023-05-24 18:55:19.654859: W tensorflow/tsl/framework/cpu_allocator_impl.cc:83] Allocation of 17981568 exceeds 10% of free system memory.\n",
      "2023-05-24 18:55:19.654926: W tensorflow/tsl/framework/cpu_allocator_impl.cc:83] Allocation of 17981568 exceeds 10% of free system memory.\n"
     ]
    },
    {
     "name": "stdout",
     "output_type": "stream",
     "text": [
      "422/422 [==============================] - 22s 47ms/step - loss: 0.3635 - accuracy: 0.8892 - val_loss: 0.0854 - val_accuracy: 0.9748\n",
      "Epoch 2/3\n",
      "422/422 [==============================] - 19s 45ms/step - loss: 0.1133 - accuracy: 0.9655 - val_loss: 0.0611 - val_accuracy: 0.9840\n",
      "Epoch 3/3\n",
      "422/422 [==============================] - 19s 45ms/step - loss: 0.0897 - accuracy: 0.9728 - val_loss: 0.0514 - val_accuracy: 0.9867\n"
     ]
    },
    {
     "data": {
      "text/plain": [
       "<keras.callbacks.History at 0x7fab0a033e80>"
      ]
     },
     "execution_count": 11,
     "metadata": {},
     "output_type": "execute_result"
    }
   ],
   "source": [
    "batch_size = 128\n",
    "epochs = 3\n",
    "\n",
    "model.compile(loss=\"categorical_crossentropy\", optimizer=\"adam\", metrics=[\"accuracy\"])\n",
    "\n",
    "model.fit(x_train, y_train, batch_size=batch_size, epochs=epochs, validation_split=0.1)"
   ]
  },
  {
   "cell_type": "markdown",
   "metadata": {
    "collapsed": false
   },
   "source": [
    "# Verlust des Netzwerkes berechnen.\n",
    "\n",
    "Die unten gezeigte Variable 'score' enthält zwei Werte: Den Verlust und die sogenannte accuracy (engl.: Genauigkeit) - das ist eine von mehreren möglichen Metriken zum Messen der Güte eines ML Modells."
   ]
  },
  {
   "cell_type": "code",
   "execution_count": 12,
   "metadata": {},
   "outputs": [
    {
     "name": "stdout",
     "output_type": "stream",
     "text": [
      "Test loss: 0.04706491529941559\n",
      "Test accuracy: 0.9846000075340271\n"
     ]
    }
   ],
   "source": [
    "score = model.evaluate(x_test, y_test, verbose=0)\n",
    "print(\"Test loss:\", score[0])\n",
    "print(\"Test accuracy:\", score[1])"
   ]
  },
  {
   "cell_type": "markdown",
   "metadata": {
    "collapsed": false
   },
   "source": [
    "# Trainiertes Neuronales Netz anwenden\n",
    "\n",
    "Im nachfolgenden Code wird nun das fertig trainierte ML Modell auf die zuvor zurückgehaltenen Test-Daten angewendet.\n",
    "Vergleicht man die Vorhersagen des Modells (y_pred) für die dem Modell unbekannten Test-Daten mit den zugehörigen tatsächlichen Annotationen, dann kann man Aussagen zur Generalisierungsfähigkeit und Güte dieses Modells machen."
   ]
  },
  {
   "cell_type": "code",
   "execution_count": 13,
   "metadata": {},
   "outputs": [
    {
     "name": "stdout",
     "output_type": "stream",
     "text": [
      "313/313 [==============================] - 1s 4ms/step\n"
     ]
    }
   ],
   "source": [
    "# Predict classes for Test-Images\n",
    "y_pred=model.predict(x_test)"
   ]
  },
  {
   "cell_type": "markdown",
   "metadata": {
    "collapsed": false
   },
   "source": [
    "# Visualisierung der Vorhersagen\n",
    "\n",
    "Im nachfolgenden optionalen Beispiel wird für einige zufällige Daten die tatsächliche Annotation mit der Vorhersage verglichen."
   ]
  },
  {
   "cell_type": "code",
   "execution_count": 14,
   "metadata": {},
   "outputs": [
    {
     "data": {
      "image/png": "[encoded data removed]",
      "text/plain": [
       "<Figure size 1000x300 with 4 Axes>"
      ]
     },
     "metadata": {},
     "output_type": "display_data"
    }
   ],
   "source": [
    "seaborn.set_style('white')\n",
    "fig, axs = plt.subplots(nrows=1, ncols=4, figsize=(10,3))\n",
    "\n",
    "# Empty list containers to collect image infos\n",
    "images=[None]*4\n",
    "y_images=[None]*4\n",
    "y_images_pred=[None]*4\n",
    "\n",
    "# Grap some random images and y_test values\n",
    "for idx,image_nr in enumerate([10,758,456,1209]):\n",
    "    images[idx]=x_test[image_nr]\n",
    "    y_images[idx]=y_test[image_nr]\n",
    "    y_images_pred[idx]=y_pred[image_nr]\n",
    "\n",
    "# Print images and y_test values\n",
    "headline=np.arange(start=0, stop=10, step=1)\n",
    "\n",
    "for i, ax in enumerate(axs.flatten()):\n",
    "    plt.sca(ax)\n",
    "    plt.imshow(images[i])\n",
    "    plt.title(\"{}\\n{}\\n{}\".format(headline, y_images[i].astype(int),y_images_pred[i].round().astype(int)))\n",
    "\n",
    "# Visualize images\n",
    "plt.show()"
   ]
  },
  {
   "cell_type": "markdown",
   "metadata": {
    "collapsed": false
   },
   "source": [
    "# Quellen\n",
    "\n",
    "https://keras.io/examples/vision/mnist_convnet/\n",
    "\n",
    "Paaß, Hecker, Künstliche Intelligenz, Springer Nature 2020, https://doi.org/10.1007/978-3-658-30211-5\n",
    "\n",
    "https://blog.rootcodelabs.com/neural-networks-the-21st-century-artist/\n",
    "\n",
    "https://keras.io/\n",
    "\n",
    "https://www.analyticsvidhya.com/blog/2022/03/visualize-deep-learning-models-using-visualkeras/\n",
    "\n",
    "https://www.bualabs.com/\n",
    "\n",
    "und eigene Darstellungen.\n",
    "\n"
   ]
  },
  {
   "cell_type": "code",
   "execution_count": null,
   "metadata": {
    "collapsed": false
   },
   "outputs": [],
   "source": []
  }
 ],
 "metadata": {
  "kernelspec": {
   "display_name": "Python 3",
   "language": "python",
   "name": "python3"
  },
  "language_info": {
   "codemirror_mode": {
    "name": "ipython",
    "version": 3
   },
   "file_extension": ".py",
   "mimetype": "text/x-python",
   "name": "python",
   "nbconvert_exporter": "python",
   "pygments_lexer": "ipython3",
   "version": "3.10.4"
  },
  "orig_nbformat": 4,
  "vscode": {
   "interpreter": {
    "hash": "3ad933181bd8a04b432d3370b9dc3b0662ad032c4dfaa4e4f1596c548f763858"
   }
  }
 },
 "nbformat": 4,
 "nbformat_minor": 2
}
