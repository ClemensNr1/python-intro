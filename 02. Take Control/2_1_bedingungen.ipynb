{
 "cells": [
  {
   "cell_type": "markdown",
   "metadata": {
    "collapsed": false
   },
   "source": [
    "# Take Control!\n",
    "## Bedingungen\n",
    "\n",
    "Wir haben bereits den Daten-Typ 'bool' - also die Boolschen Werte True und False kennengelernt.\n",
    "\n",
    "Mit Hilfe dieser Werte lässt sich nun das Programm steuern.\n",
    "\n",
    "Das erfolgt mit Hilfe des Schlüsselworts 'if'"
   ]
  },
  {
   "cell_type": "code",
   "execution_count": 5,
   "metadata": {
    "collapsed": false
   },
   "outputs": [
    {
     "name": "stdout",
     "output_type": "stream",
     "text": [
      "Aller Anfang ist schwer\n",
      "42\n",
      "hier gehts nach der Bedingung weiter\n"
     ]
    }
   ],
   "source": [
    "# An Montagen soll eine Meldung ausgegeben werden:\n",
    "wochen_tag = 'Montag'\n",
    "\n",
    "if wochen_tag == 'Montag':\n",
    "    print(\"Aller Anfang ist schwer\")\n",
    "    print(42)\n",
    "print(\"hier gehts nach der Bedingung weiter\")"
   ]
  },
  {
   "cell_type": "code",
   "execution_count": 6,
   "metadata": {
    "collapsed": false
   },
   "outputs": [
    {
     "name": "stdout",
     "output_type": "stream",
     "text": [
      "Sie haben Zutritt\n"
     ]
    }
   ],
   "source": [
    "# Nur Erwachsene haben Zutritt\n",
    "mindest_alter = 18\n",
    "tatsaechliches_alter = 20\n",
    "\n",
    "if tatsaechliches_alter >= mindest_alter:\n",
    "    print(\"Sie haben Zutritt\")"
   ]
  },
  {
   "cell_type": "markdown",
   "metadata": {
    "collapsed": false
   },
   "source": [
    "### Aufgabe\n",
    "\n",
    "Ändern Sie den obigen Code so, dass das Alter 'nur' 17 ist.\n",
    "\n",
    "=> Was ändert sich?\n",
    "=> Warum?"
   ]
  },
  {
   "cell_type": "code",
   "execution_count": null,
   "metadata": {
    "collapsed": false
   },
   "outputs": [],
   "source": [
    "# Nur Erwachsene haben Zutritt\n",
    "\n"
   ]
  },
  {
   "cell_type": "markdown",
   "metadata": {
    "collapsed": false
   },
   "source": [
    "### Alternative Bedingungen\n",
    "\n",
    "Wird die Bedingung im 'if' Schlüsselwort nicht erfüllt, dann wird der zugehörige Code **NICHT** ausgeführt. Er wird komplett ignoriert, als ob es ihn nicht gäbe."
   ]
  },
  {
   "cell_type": "markdown",
   "metadata": {
    "collapsed": false
   },
   "source": [
    "Damit man in der Programmierung nicht unnötig viele if-Bedingungen schreiben muss, gibt es die Möglichkeit mit Alternativen umzugehen.\n",
    "\n",
    "Das 'else' Schlüsselwort steht für alle Fälle, in denen die Bedingung nicht erfüllt ist."
   ]
  },
  {
   "cell_type": "code",
   "execution_count": 7,
   "metadata": {
    "collapsed": false
   },
   "outputs": [
    {
     "name": "stdout",
     "output_type": "stream",
     "text": [
      "Sie sind leider noch zu jung.\n"
     ]
    }
   ],
   "source": [
    "# Nur Erwachsene haben Zutritt\n",
    "mindest_alter = 18\n",
    "\n",
    "tatsaechliches_alter = 17\n",
    "\n",
    "if tatsaechliches_alter >= mindest_alter:\n",
    "    print(\"Sie haben Zutritt\")\n",
    "else:\n",
    "    print(\"Sie sind leider noch zu jung.\")"
   ]
  },
  {
   "cell_type": "markdown",
   "metadata": {
    "collapsed": false
   },
   "source": [
    "### If - elif - else\n",
    "![image](../img/if_then_else.png)\n",
    "\n",
    "### Aufgabe\n",
    "\n",
    "=> Weisen Sie der Variablen int_var einen Wert zu.\n",
    "=> Geben Sie mit Hilfe von print() und if..elif..else folgende Texte aus:\n",
    "\n",
    "int_var == 0 -> 'Die Variable ist Null'\n",
    "int_var > 0 -> 'Die Variable ist größer als Null'\n",
    "int_var < 0 -> 'Die Variable ist kleiner als Null'\n",
    "\n",
    "=> Testen Sie Ihr Programm mit den Werten 10, 0 und -17"
   ]
  },
  {
   "cell_type": "code",
   "execution_count": 12,
   "metadata": {
    "collapsed": false
   },
   "outputs": [
    {
     "name": "stdout",
     "output_type": "stream",
     "text": [
      "Die Variable ist größer als Null\n"
     ]
    }
   ],
   "source": [
    "# Ausgabe, je nachdem, ob Variable == 0, >0 oder <0 ist:\n",
    "\n",
    "int_var = -17\n",
    "\n",
    "if int_var==0:\n",
    "    print(\"Die Variable ist Null\")\n",
    "elif int_var>0:\n",
    "    print(\"Die Variable ist größer als Null\")\n",
    "else:\n",
    "    print(\"Die Variable ist kleiner als Null.\")\n",
    "    "
   ]
  },
  {
   "cell_type": "code",
   "execution_count": 22,
   "metadata": {},
   "outputs": [
    {
     "name": "stdout",
     "output_type": "stream",
     "text": [
      "False\n"
     ]
    }
   ],
   "source": [
    "bool_var=int_var==0\n",
    "print(bool_var)"
   ]
  },
  {
   "cell_type": "markdown",
   "metadata": {
    "collapsed": false
   },
   "source": [
    "Im 'else' Zweig haben Sie gar nicht mehr überprüft, ob die Variable kleiner als Null ist. Warum ist das dennoch in Ordnung?"
   ]
  },
  {
   "cell_type": "markdown",
   "metadata": {
    "collapsed": false
   },
   "source": [
    "# Exkurs - Ein paar Logik-Beispiele"
   ]
  },
  {
   "cell_type": "code",
   "execution_count": null,
   "metadata": {
    "collapsed": false
   },
   "outputs": [],
   "source": [
    "# Exkurs - Ein paar Logik Beispiele\n",
    "\n",
    "print ('Not True ist False:', not True)\n",
    "print ('Nur True and True ist True:', True and True)\n",
    "print ('True and False ist False:', True and False)\n",
    "print ('True or True ist True:', True or True)\n",
    "print ('True or False ist immer noch True:', True or False)\n",
    "print ('Nur False or False ist False:', False or False)"
   ]
  },
  {
   "cell_type": "code",
   "execution_count": null,
   "metadata": {
    "collapsed": false
   },
   "outputs": [],
   "source": []
  }
 ],
 "metadata": {
  "kernelspec": {
   "display_name": "Python 3",
   "language": "python",
   "name": "python3"
  },
  "language_info": {
   "codemirror_mode": {
    "name": "ipython",
    "version": 3
   },
   "file_extension": ".py",
   "mimetype": "text/x-python",
   "name": "python",
   "nbconvert_exporter": "python",
   "pygments_lexer": "ipython3",
   "version": "3.10.4"
  }
 },
 "nbformat": 4,
 "nbformat_minor": 0
}
