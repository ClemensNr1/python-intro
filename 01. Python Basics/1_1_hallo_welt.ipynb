{
 "cells": [
  {
   "cell_type": "markdown",
   "metadata": {
    "collapsed": false
   },
   "source": [
    "# Programmieren mit Python\n",
    "\n",
    "### Jupyter Notebooks\n",
    "Für diesen Kurs arbeiten wir in sogenannten Jupyter Notebooks. Diese vereinfachen das Lernen, da Zeile für Zeile Ein- und Ausgaben gemachte werden können.\n",
    "\n",
    "## Probieren Sie es aus\n",
    "In der folgenden sogenannten Zelle steht Ihr erstes Programm.\n",
    "* Zeigen Sie mit er Maus über das graue Feld unten.\n",
    "* Der graue Pfeil links erscheint.\n",
    "* Klicken Sie mit der Maus auf den grauen Pfeil und los gehts.\n",
    "\n",
    "![image](../img/arrow.png)\n",
    "HINWEIS: Manchmal ist der Pfeil auch grün und nicht links der \"Zelle\", sondern am oberen Rand des Fensters.\n",
    "HINWEIS: Wenn man mit der Maus in die Zelle klickt - d.h. der Cursor ist darin - dann kann man auch shift-Enter zum Ausführen klicken."
   ]
  },
  {
   "cell_type": "code",
   "execution_count": 2,
   "metadata": {
    "collapsed": false
   },
   "outputs": [
    {
     "name": "stdout",
     "output_type": "stream",
     "text": [
      "Hallo Python\n"
     ]
    }
   ],
   "source": [
    "print (\"Hallo Python\")"
   ]
  },
  {
   "cell_type": "markdown",
   "metadata": {
    "collapsed": false
   },
   "source": [
    "### Weiter gehts\n",
    "Im folgenden Sehen Sie mehrere sogenannte Zellen des Jupyter Notebooks.\n",
    "Darin finden Sie verschiedene Beispiele für die Fähigkeiten von Python:"
   ]
  },
  {
   "cell_type": "code",
   "execution_count": 3,
   "metadata": {
    "collapsed": false
   },
   "outputs": [
    {
     "name": "stdout",
     "output_type": "stream",
     "text": [
      "12\n",
      "9\n",
      "12.0\n"
     ]
    }
   ],
   "source": [
    "# Python kann rechnen\n",
    "print (5+7)\n",
    "print (3*3)\n",
    "print (24/2)"
   ]
  },
  {
   "cell_type": "markdown",
   "metadata": {
    "collapsed": false
   },
   "source": [
    "### Haben Sie es gesehen?\n",
    "Sehen Sie sich die Ausgabe genau an.\n",
    "Die Berechnung von 5+7 wird als \"12\" angezeigt.\n",
    "Die Berechnung von 24/2 wird jedoch als \"12.0\" angezeigt.\n",
    "Sie haben soeben die sogenannten Datentypen kennengelernt. Diese werden wir in der Folge noch näher besprechen."
   ]
  },
  {
   "cell_type": "markdown",
   "metadata": {
    "collapsed": false
   },
   "source": [
    "### Vieles ist schon eingebaut\n",
    "Python bringt schon ganz viel mit. Sie müssen das Rad nicht neu erfinden.\n",
    "Im Gegenteil. Es lohnt sich, sich auf die Suche nach eingebauten oder vorgefertigten Lösungen zu machen.\n",
    "Solche Lösungen können sein:\n",
    "* Sogenannte Funktionen. Keine Angst, wir machen keine Kurvendiskussionen. Funktionen kapseln einfach Aufgaben. Dann müssen Sie sich nicht drum kümmern.\n",
    "* Eingebaute sogenannte \"packages\". Externe packages werden per \"import\" geladen. Dann steht die Funktion zur Verfügung.\n",
    "    * packages werden über den Paketmanager (anaconda oder pip) hinzugefügt.\n",
    "* Sogenannte Frameworks. Das sind komplett vorgefertigte Strategien, wie z.B. django. Frameworks muss man in der Regel installieren."
   ]
  },
  {
   "cell_type": "code",
   "execution_count": 4,
   "metadata": {
    "collapsed": false
   },
   "outputs": [
    {
     "name": "stdout",
     "output_type": "stream",
     "text": [
      "1024\n"
     ]
    }
   ],
   "source": [
    "# Python Mathematik package\n",
    "# dieses ist fest eingebaut und muss auch nicht separat geladen werden\n",
    "print (pow(2,10))"
   ]
  },
  {
   "cell_type": "code",
   "execution_count": 5,
   "metadata": {
    "collapsed": false
   },
   "outputs": [
    {
     "name": "stdout",
     "output_type": "stream",
     "text": [
      "10715086071862673209484250490600018105614048117055336074437503883703510511249361224931983788156958581275946729175531468251871452856923140435984577574698574803934567774824230985421074605062371141877954182153046474983581941267398767559165543946077062914571196477686542167660429831652624386837205668069376\n"
     ]
    }
   ],
   "source": [
    "# Python kann sehr große Zahlen\n",
    "print (pow(2,1000))"
   ]
  },
  {
   "cell_type": "markdown",
   "metadata": {
    "collapsed": false
   },
   "source": [
    "### Funktionen\n",
    "Wir haben oben bereits die pow = 'power', das ist die Exponentenfunktion, kennengelernt.\n",
    "Diese Art von Funktion kann alleine stehen. Man sagt, sie ist \"statisch\".\n",
    "\n",
    "Es gibt aber noch weitere praktische Funktionen.\n",
    "Es gibt auch Funktionen, die auch an den Variablen - genauer Objekten - \"hängen\" können.\n",
    "Wir werden *nicht* in die objektorientierte Programmierung einsteigen. Hier genügt es uns zu wissen, dass Objekte Funktionen haben können. Diese verleihen den Objekten \"Superkräfte\", d.h. sie können aus sich heraus mehr als nur den Wert speichern."
   ]
  },
  {
   "cell_type": "code",
   "execution_count": null,
   "metadata": {
    "collapsed": false
   },
   "outputs": [],
   "source": [
    "# Textmanipulation\n",
    "a = \"Hallo Python\"\n",
    "print (a.upper())\n",
    "print (a)"
   ]
  },
  {
   "cell_type": "markdown",
   "metadata": {
    "collapsed": false
   },
   "source": [
    "### Cool, oder? Aber Python kann noch mehr\n",
    "Lernen wir unsere ersten Bibliotheken kennen.\n",
    "\n",
    "### Grafik eingebaut - So wird Python zum Werkzeug\n",
    "Wenn Sie als Data Scientist:in arbeiten möchten, werden Sie viel auf die mächtigen Grafik-Bibliotheken von Python zurückgreifen."
   ]
  },
  {
   "cell_type": "code",
   "execution_count": null,
   "metadata": {
    "collapsed": false
   },
   "outputs": [
    {
     "name": "stderr",
     "output_type": "stream",
     "text": [
      "Bad pipe message: %s [b'\\xc7\\x9fF\\xb4\\xd0\\xcb\\xab\\xf8\\x17\\xe4oU.\\xabQ\\x99u\\x7f n\\x90If\\x89\\xf7\\xfdZa\\xce\\xf8\\xbb\\xc6\\xb8\\xa4kNWq4\\xe9\\x9f\\xc2c\\x85]\\xa3\\x0c\\xe8\\x00\\xfcs\\x00\\x08\\x13\\x02\\x13\\x03\\x13\\x01\\x00\\xff\\x01\\x00\\x00\\x8f\\x00\\x00\\x00\\x0e\\x00\\x0c\\x00\\x00\\t127.0.0.1\\x00\\x0b\\x00\\x04\\x03\\x00\\x01\\x02\\x00\\n\\x00\\x0c\\x00\\n\\x00\\x1d\\x00\\x17\\x00\\x1e\\x00\\x19\\x00\\x18\\x00#\\x00\\x00\\x00\\x16\\x00\\x00\\x00\\x17\\x00\\x00\\x00\\r\\x00\\x1e\\x00\\x1c\\x04\\x03\\x05\\x03\\x06\\x03\\x08\\x07\\x08\\x08\\x08\\t\\x08\\n\\x08\\x0b\\x08\\x04\\x08\\x05\\x08\\x06\\x04\\x01\\x05\\x01\\x06\\x01\\x00+\\x00\\x03\\x02\\x03\\x04\\x00-\\x00\\x02\\x01\\x01\\x003\\x00&\\x00$\\x00\\x1d\\x00 \\xac\\xac\\xcbY\\xd5T\\xeaEW']\n",
      "Bad pipe message: %s [b'.\\xae\\x9a\\x9b*\\x18\\x8d\\x1d\\x8f\\xc8`\\xf90\\x94\\x91`\\x08\\x8b \\xf4\\x825y\\x94\\xf9\\xf0\\xc0Z+7\\xcf6\\x82R\\xd4\\x8bO\\x82\\x08\\x00k\\x1aS-\\xf1\\x1d>Yvx\\x9f\\x00\\x08\\x13\\x02\\x13\\x03\\x13\\x01\\x00\\xff\\x01\\x00\\x00\\x8f\\x00\\x00\\x00\\x0e\\x00\\x0c\\x00\\x00\\t127', b'.0.1\\x00\\x0b\\x00\\x04\\x03\\x00\\x01\\x02\\x00\\n\\x00\\x0c\\x00\\n\\x00\\x1d\\x00\\x17\\x00\\x1e\\x00\\x19\\x00\\x18\\x00#\\x00\\x00\\x00\\x16\\x00\\x00\\x00\\x17\\x00\\x00\\x00\\r\\x00\\x1e\\x00']\n",
      "Bad pipe message: %s [b'\\x03\\x05\\x03\\x06\\x03\\x08\\x07\\x08\\x08\\x08\\t\\x08\\n\\x08\\x0b\\x08\\x04\\x08\\x05\\x08\\x06\\x04\\x01\\x05\\x01\\x06\\x01']\n",
      "Bad pipe message: %s [b' Uo', b'\\x07p\\x7fr\\x8f\\xe1\\x05\\xe7D=\\xbeu[\\x00\\x00|\\xc0,\\xc00\\x00\\xa3\\x00\\x9f\\xcc\\xa9\\xcc\\xa8\\xcc\\xaa\\xc0\\xaf\\xc0\\xad\\xc0\\xa3\\xc0\\x9f\\xc0]\\xc0a\\xc0W\\xc0S\\xc0+\\xc0/\\x00\\xa2\\x00\\x9e\\xc0\\xae\\xc0\\xac\\xc0\\xa2\\xc0\\x9e\\xc0\\\\\\xc0`']\n",
      "Bad pipe message: %s [b\"\\xa3S\\r\\x84vu\\xda\\x00\\x9b\\xcc+Y\\x0f\\x03H\\xe8\\xec\\xa1\\x00\\x00\\xa6\\xc0,\\xc00\\x00\\xa3\\x00\\x9f\\xcc\\xa9\\xcc\\xa8\\xcc\\xaa\\xc0\\xaf\\xc0\\xad\\xc0\\xa3\\xc0\\x9f\\xc0]\\xc0a\\xc0W\\xc0S\\xc0+\\xc0/\\x00\\xa2\\x00\\x9e\\xc0\\xae\\xc0\\xac\\xc0\\xa2\\xc0\\x9e\\xc0\\\\\\xc0`\\xc0V\\xc0R\\xc0$\\xc0(\\x00k\\x00j\\xc0s\\xc0w\\x00\\xc4\\x00\\xc3\\xc0#\\xc0'\\x00g\\x00@\\xc0r\\xc0v\\x00\\xbe\\x00\\xbd\\xc0\\n\\xc0\\x14\\x009\\x008\\x00\\x88\\x00\\x87\\xc0\\t\\xc0\\x13\\x003\\x002\\x00\\x9a\\x00\\x99\\x00E\\x00D\\xc0\\x07\\xc0\\x11\\xc0\\x08\\xc0\\x12\\x00\"]\n",
      "Bad pipe message: %s [b'\\x13\\x00\\x9d\\xc0\\xa1\\xc0\\x9d\\xc0Q\\x00\\x9c\\xc0\\xa0\\xc0\\x9c\\xc0P\\x00=\\x00\\xc0']\n",
      "Bad pipe message: %s [b'\\xbe\\t\\xa4&\\xbbq\\xf3\\x192\\r\\x80\\xe8\\xc7\\x9a\\xbb\\xd8\\xc0\\xf5\\x00\\x00>\\xc0\\x14\\xc0\\n\\x009\\x008\\x007\\x006\\xc0\\x0f\\xc0\\x05\\x005\\xc0\\x13\\xc0\\t\\x003\\x002\\x001\\x000\\xc0\\x0e\\xc0\\x04\\x00/\\x00\\x9a\\x00\\x99\\x00\\x98\\x00\\x97\\x00\\x96\\x00\\x07\\xc0\\x11\\xc0\\x07\\xc0\\x0c\\xc0\\x02\\x00\\x05\\x00\\x04\\x00\\xff\\x02\\x01\\x00\\x00C\\x00\\x00\\x00\\x0e\\x00\\x0c\\x00\\x00\\t127.0.0.', b'\\x0b\\x00\\x04\\x03\\x00\\x01\\x02\\x00\\n\\x00\\x1c\\x00\\x1a\\x00\\x17\\x00\\x19\\x00\\x1c\\x00\\x1b\\x00\\x18\\x00\\x1a\\x00\\x16\\x00\\x0e\\x00\\r\\x00\\x0b\\x00\\x0c\\x00\\t\\x00\\n\\x00#\\x00\\x00\\x00\\x0f\\x00\\x01\\x01']\n",
      "Bad pipe message: %s [b'9\\x130 \\xd1Y\"\\'nM\\xb6\\xb1q\\xa7\\xe7\\xef']\n",
      "Bad pipe message: %s [b'\\\\\\x07b-\\x0c\\xd1\\xf4']\n",
      "Bad pipe message: %s [b'F\\xbd\\xc2Q\\\\\\x17L\\x07\\x1e\\xb4:\\x9f\\xac\\xdf\\xbb\\xb5\\xeb\\xf5\\x00\\x00']\n",
      "Bad pipe message: %s [b'\\x14\\xc0\\n\\x009\\x008\\x007\\x006\\xc0\\x0f\\xc0\\x05\\x005\\xc0\\x13\\xc0\\t\\x003\\x002\\x001\\x000\\xc0\\x0e\\xc0\\x04\\x00/\\x00\\x9a\\x00\\x99\\x00\\x98\\x00\\x97\\x00\\x96\\x00\\x07\\xc0\\x11\\xc0\\x07\\xc0\\x0c\\xc0\\x02\\x00\\x05\\x00\\x04\\x00\\xff']\n",
      "Bad pipe message: %s [b'\\x9c\\t\\x9d\\x9e\\xb9', b'h`\\xbb\\xee#\\xfa\\x8b\\x94\\xd4*u\\x00\\x00\\xa2\\xc0\\x14\\xc0\\n\\x009\\x008\\x007\\x006\\x00\\x88\\x00\\x87\\x00\\x86\\x00\\x85\\xc0\\x19\\x00:\\x00\\x89\\xc0\\x0f\\xc0\\x05\\x005\\x00\\x84\\xc0\\x13\\xc0\\t\\x003\\x002\\x001\\x000\\x00\\x9a\\x00\\x99\\x00\\x98\\x00\\x97\\x00E\\x00D\\x00C\\x00B\\xc0\\x18\\x004\\x00\\x9b\\x00F\\xc0\\x0e\\xc0\\x04\\x00/\\x00\\x96\\x00A\\x00\\x07\\xc0\\x11\\xc0\\x07\\xc0\\x16\\x00\\x18\\xc0\\x0c\\xc0\\x02\\x00\\x05\\x00\\x04\\xc0\\x12\\xc0\\x08\\x00\\x16\\x00\\x13\\x00\\x10\\x00\\r\\xc0\\x17\\x00\\x1b\\xc0\\r\\xc0\\x03\\x00\\n\\x00\\x15\\x00\\x12']\n"
     ]
    }
   ],
   "source": [
    "import matplotlib.pyplot as plt\n",
    "import numpy as np\n",
    "\n",
    "# Die Funktion arange erzeugt eine Serie (hier ein sogenanntes 'array') in gleichmäßigen Abständen.\n",
    "t = np.arange(0., 5., 0.2)\n",
    "\n",
    "# r-- red dashes | bs blue squares | g^ green triangles\n",
    "plt.plot(t, t, 'r--', t, t**2, 'bs', t, t**3, 'g^')\n",
    "plt.show()"
   ]
  },
  {
   "cell_type": "markdown",
   "metadata": {
    "collapsed": false
   },
   "source": [
    "# Hinweise zum Jupyter Notebook\n",
    "## Ein- und Ausgabezellen\n",
    "Notebooks bestehen aus Zellen. Das sind die grauen Felder, die Sie bereits kennengelernt haben.\n",
    "Jede Zelle hat einen Eingabebereich, d.h. dort, wo der Python Code steht und einen Ausgabebereich, dort werden die Ergebnisse angezeigt.\n",
    "![image](../img/python_cell_1.png)"
   ]
  },
  {
   "cell_type": "markdown",
   "metadata": {
    "collapsed": false
   },
   "source": [
    "## Ausgaben speichern und löschen\n",
    "Der Ausgabebereich ist eine nützliche Funktion der Jupyter Notebooks.\n",
    "Die Ausgabe wird zusammen mit dem Notebook gespeichert und kann somit kompakt weitergegeben werden.\n",
    "Das Speichern erfolgt somit automatisch.\n",
    "\n",
    "Sie könnten die Ausgabeen aber auch wieder zurücksetzen und löschen, wie Sie in der Grafik sehen (Klick auf die drei Punkte \"...\").\n",
    "![image](../img/python_cell_2.png)\n"
   ]
  },
  {
   "attachments": {},
   "cell_type": "markdown",
   "metadata": {
    "collapsed": false
   },
   "source": [
    "## Markdown und Python Code\n",
    "Zellen können zwei Typen haben. Markdown oder Code.\n",
    "Code Zellen haben Sie bereits kennengelernt und benutzt.\n",
    "Markdown ist dazu gedacht, auf einfache Weise formatierten Text einzugeben:\n",
    "\n",
    "[Markdown Info](https://de.wikipedia.org/wiki/Markdown)"
   ]
  }
 ],
 "metadata": {
  "kernelspec": {
   "display_name": "Python 3",
   "language": "python",
   "name": "python3"
  },
  "language_info": {
   "codemirror_mode": {
    "name": "ipython",
    "version": 3
   },
   "file_extension": ".py",
   "mimetype": "text/x-python",
   "name": "python",
   "nbconvert_exporter": "python",
   "pygments_lexer": "ipython3",
   "version": "3.10.4"
  }
 },
 "nbformat": 4,
 "nbformat_minor": 0
}
