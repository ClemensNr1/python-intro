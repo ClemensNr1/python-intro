{
 "cells": [
  {
   "cell_type": "markdown",
   "source": [
    "# Programmieren mit Python\n",
    "\n",
    "### Jupyter Notebooks\n",
    "Für diesen Kurs arbeiten wir in sogenannten Jupyter Notebooks. Diese vereinfachen das Lernen, da Zeile für Zeile Ein- und Ausgaben gemachte werden können.\n",
    "\n",
    "## Probieren Sie es aus\n",
    "In der folgenden sogenannten Zelle steht Ihr erstes Programm.\n",
    "* Zeigen Sie mit er Maus über das graue Feld unten.\n",
    "* Der graue Pfeil links erscheint.\n",
    "* Klicken Sie mit der Maus auf den grauen Pfeil und los gehts.\n",
    "\n",
    "![image](../img/arrow.png)\n",
    "HINWEIS: Manchmal ist der Pfeil auch grün und nicht links der \"Zelle\", sondern am oberen Rand des Fensters.\n",
    "HINWEIS: Wenn man mit der Maus in die Zelle klickt - d.h. der Cursor ist darin - dann kann man auch shift-Enter zum Ausführen klicken."
   ],
   "metadata": {
    "collapsed": false
   }
  },
  {
   "cell_type": "code",
   "execution_count": 7,
   "outputs": [
    {
     "name": "stdout",
     "output_type": "stream",
     "text": [
      "Hallo Python\n"
     ]
    }
   ],
   "source": [
    "print (\"Hallo Python\")"
   ],
   "metadata": {
    "collapsed": false
   }
  },
  {
   "cell_type": "markdown",
   "source": [
    "### Weiter gehts\n",
    "Im folgenden Sehen Sie mehrere sogenannte Zellen des Jupyter Notebooks.\n",
    "Darin finden Sie verschiedene Beispiele für die Fähigkeiten von Python:"
   ],
   "metadata": {
    "collapsed": false
   }
  },
  {
   "cell_type": "code",
   "execution_count": 8,
   "outputs": [
    {
     "name": "stdout",
     "output_type": "stream",
     "text": [
      "12\n",
      "9\n",
      "12.0\n"
     ]
    }
   ],
   "source": [
    "# Python kann rechnen\n",
    "print (5+7)\n",
    "print (3*3)\n",
    "print (24/2)"
   ],
   "metadata": {
    "collapsed": false
   }
  },
  {
   "cell_type": "markdown",
   "source": [
    "### Haben Sie es gesehen?\n",
    "Sehen Sie sich die Ausgabe genau an.\n",
    "Die Berechnung von 5+7 wird als \"12\" angezeigt.\n",
    "Die Berechnung von 24/2 wird jedoch als \"12.0\" angezeigt.\n",
    "Sie haben soeben die sogenannten Datentypen kennengelernt. Diese werden wir in der Folge noch näher besprechen."
   ],
   "metadata": {
    "collapsed": false
   }
  },
  {
   "cell_type": "markdown",
   "source": [
    "### Vieles ist schon eingebaut\n",
    "Python bringt schon ganz viel mit. Sie müssen das Rad nicht neu erfinden.\n",
    "Im Gegenteil. Es lohnt sich, sich auf die Suche nach eingebauten oder vorgefertigten Lösungen zu machen.\n",
    "Solche Lösungen können sein:\n",
    "* Sogenannte Funktionen. Keine Angst, wir machen keine Kurvendiskussionen. Funktionen kapseln einfach Aufgaben. Dann müssen Sie sich nicht drum kümmern.\n",
    "* Eingebaute sogenannte \"packages\". Externe packages werden per \"import\" geladen. Dann steht die Funktion zur Verfügung.\n",
    "    * packages werden über den Paketmanager (anaconda oder pip) hinzugefügt.\n",
    "* Sogenannte Frameworks. Das sind komplett vorgefertigte Strategien, wie z.B. django. Frameworks muss man in der Regel installieren."
   ],
   "metadata": {
    "collapsed": false
   }
  },
  {
   "cell_type": "code",
   "execution_count": 9,
   "outputs": [
    {
     "name": "stdout",
     "output_type": "stream",
     "text": [
      "1024\n"
     ]
    }
   ],
   "source": [
    "# Python Mathematik package\n",
    "# dieses ist fest eingebaut und muss auch nicht separat geladen werden\n",
    "print (pow(2,10))"
   ],
   "metadata": {
    "collapsed": false
   }
  },
  {
   "cell_type": "code",
   "execution_count": 10,
   "outputs": [
    {
     "name": "stdout",
     "output_type": "stream",
     "text": [
      "10715086071862673209484250490600018105614048117055336074437503883703510511249361224931983788156958581275946729175531468251871452856923140435984577574698574803934567774824230985421074605062371141877954182153046474983581941267398767559165543946077062914571196477686542167660429831652624386837205668069376\n"
     ]
    }
   ],
   "source": [
    "# Python kann sehr große Zahlen\n",
    "print (pow(2,1000))"
   ],
   "metadata": {
    "collapsed": false
   }
  },
  {
   "cell_type": "markdown",
   "source": [
    "### Funktionen\n",
    "Wir haben oben bereits die pow = 'power', das ist die Exponentenfunktion, kennengelernt.\n",
    "Diese Art von Funktion kann alleine stehen. Man sagt, sie ist \"statisch\".\n",
    "\n",
    "Es gibt aber noch weitere praktische Funktionen.\n",
    "Es gibt auch Funktionen, die auch an den Variablen - genauer Objekten - \"hängen\" können.\n",
    "Wir werden *nicht* in die objektorientierte Programmierung einsteigen. Hier genügt es uns zu wissen, dass Objekte Funktionen haben können. Diese verleihen den Objekten \"Superkräfte\", d.h. sie können aus sich heraus mehr als nur den Wert speichern."
   ],
   "metadata": {
    "collapsed": false
   }
  },
  {
   "cell_type": "code",
   "execution_count": 11,
   "outputs": [
    {
     "name": "stdout",
     "output_type": "stream",
     "text": [
      "HALLO PYTHON\n",
      "Hallo Python\n"
     ]
    }
   ],
   "source": [
    "# Textmanipulation\n",
    "a = \"Hallo Python\"\n",
    "print (a.upper())\n",
    "print (a)"
   ],
   "metadata": {
    "collapsed": false
   }
  },
  {
   "cell_type": "markdown",
   "source": [
    "### Cool, oder? Aber Python kann noch mehr\n",
    "Lernen wir unsere ersten Bibliotheken kennen.\n",
    "\n",
    "### Grafik eingebaut - So wird Python zum Werkzeug\n",
    "Wenn Sie als Data Scientist:in arbeiten möchten, werden Sie viel auf die mächtigen Grafik-Bibliotheken von Python zurückgreifen."
   ],
   "metadata": {
    "collapsed": false
   }
  },
  {
   "cell_type": "code",
   "execution_count": 12,
   "outputs": [
    {
     "data": {
      "text/plain": "<Figure size 640x480 with 1 Axes>",
      "image/png": "[encoded data removed]"
     },
     "metadata": {},
     "output_type": "display_data"
    }
   ],
   "source": [
    "import matplotlib.pyplot as plt\n",
    "import numpy as np\n",
    "\n",
    "# Die Funktion arange erzeugt eine Serie (hier ein sogenanntes 'array') in gleichmäßigen Abständen.\n",
    "t = np.arange(0., 5., 0.2)\n",
    "\n",
    "# r-- red dashes | bs blue squares | g^ green triangles\n",
    "plt.plot(t, t, 'r--', t, t**2, 'bs', t, t**3, 'g^')\n",
    "plt.show()"
   ],
   "metadata": {
    "collapsed": false
   }
  },
  {
   "cell_type": "markdown",
   "source": [
    "# Hinweise zum Jupyter Notebook\n",
    "## Ein- und Ausgabezellen\n",
    "Notebooks bestehen aus Zellen. Das sind die grauen Felder, die Sie bereits kennengelernt haben.\n",
    "Jede Zelle hat einen Eingabebereich, d.h. dort, wo der Python Code steht und einen Ausgabebereich, dort werden die Ergebnisse angezeigt.\n",
    "![image](../img/python_cell_1.png)"
   ],
   "metadata": {
    "collapsed": false
   }
  },
  {
   "cell_type": "markdown",
   "source": [
    "## Ausgaben speichern und löschen\n",
    "Der Ausgabebereich ist eine nützliche Funktion der Jupyter Notebooks.\n",
    "Die Ausgabe wird zusammen mit dem Notebook gespeichert und kann somit kompakt weitergegeben werden.\n",
    "Das Speichern erfolgt somit automatisch.\n",
    "\n",
    "Sie könnten die Ausgabeen aber auch wieder zurücksetzen und löschen, wie Sie in der Grafik sehen (Klick auf die drei Punkte \"...\").\n",
    "![image](../img/python_cell_2.png)\n"
   ],
   "metadata": {
    "collapsed": false
   }
  },
  {
   "cell_type": "markdown",
   "source": [
    "## Markdown und Python Code\n",
    "Zellen können zwei Typen haben. Markdown oder Code.\n",
    "Code Zellen haben Sie bereits kennengelernt und benutzt.\n",
    "Markdown ist dazu gedacht, auf einfache Weise formatierten Text einzugeben:\n",
    "\n",
    "[Markdown Info](https://de.wikipedia.org/wiki/Markdown)"
   ],
   "metadata": {
    "collapsed": false
   }
  }
 ],
 "metadata": {
  "kernelspec": {
   "display_name": "Python 3",
   "language": "python",
   "name": "python3"
  },
  "language_info": {
   "codemirror_mode": {
    "name": "ipython",
    "version": 2
   },
   "file_extension": ".py",
   "mimetype": "text/x-python",
   "name": "python",
   "nbconvert_exporter": "python",
   "pygments_lexer": "ipython2",
   "version": "2.7.6"
  }
 },
 "nbformat": 4,
 "nbformat_minor": 0
}
