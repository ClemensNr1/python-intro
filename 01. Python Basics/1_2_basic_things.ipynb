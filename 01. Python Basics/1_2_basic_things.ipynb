{
 "cells": [
  {
   "attachments": {},
   "cell_type": "markdown",
   "metadata": {
    "collapsed": false
   },
   "source": [
    "# Wichtiges Basis-Wissen\n",
    "\n",
    "## Vokabeln\n",
    "Wenn man eine neue Sprache lernt, dann gilt es auch Vokabeln zu lernen.\n",
    "\n",
    "Auch eine Programmiersprache kennt Vokabeln.\n",
    "\n",
    "Einige davon sehen Sie auf dem Bild\n",
    "![image](../img/keywords.png)\n",
    "\n",
    "- Kommentar\n",
    "    Kommentare enthalten beliebigen Text. Sie haben nur erklärende Bedeutung.\n",
    "- Schlüsselwort\n",
    "    Schlüsselwörter steuern die Programmierung. Im Beispiel steuert das \"for\" Schlüsselwort, die fünf-malige Wiederholung.\n",
    "    Dazu im Folgenden mehr.\n",
    "- Operator\n",
    "    Operatoren werden z.B. für Berechnungen oder Vergleiche benutzt.\n",
    "    Dazu im Folgenden mehr.\n",
    "- Variable\n",
    "    Variablen speichern Werte, um sie später benutzen zu können (siehe nächstes Jupyter Notebook)\n",
    "- Funktion\n",
    "    Funktionen \"verpacken\" ganze Blöcke von Programmierung. Sie sind unsere \"Superpower\".\n",
    "    Im Beispiel hilft uns die \"range\" Funktion, die Werte 0 bis 4 zu erhalten.\n",
    "    Dazu später mehr.\n",
    "\n",
    "### Kommentare in Python\n",
    "Kommentare in Python werden mit dem \"Hashtag\" # eingeleitet. Es ist guter Stil, nach dem # ein Leerzeichen zu lassen.\n",
    "Probieren Sie es gleich aus.\n",
    "\n",
    "### Aufgabe\n",
    "\n",
    "=> Erstellen Sie das Kommentar \"Ich stehe hier als Erklärung\" in der nächsten (leeren) Zelle.\n",
    "=> Führen Sie die Zelle (also den Programm-Code) aus, indem Sie auf den Pfeil klicken (oder Shift-Enter).\n",
    "=> Warum hat die Zelle keine Ausgabe?"
   ]
  },
  {
   "cell_type": "markdown",
   "metadata": {},
   "source": []
  },
  {
   "cell_type": "code",
   "execution_count": 5,
   "metadata": {
    "collapsed": false
   },
   "outputs": [
    {
     "name": "stdout",
     "output_type": "stream",
     "text": [
      "meine_variable = 10\n"
     ]
    }
   ],
   "source": [
    "print (\"meine_variable = 10\")"
   ]
  },
  {
   "cell_type": "markdown",
   "metadata": {
    "collapsed": false
   },
   "source": [
    "### Schlüsselwörter (keywords) in Python\n",
    "\n",
    "Schlüsselwörter sind spezielle Wörte, mit deren Hilfe wir Programmieren.\n",
    "\n",
    "Sie gehören also zur Sprache \"Python\".\n",
    "\n",
    "Hier sehen Sie eine Liste von Schlüsselwörtern:\n",
    "![image](../img/keyword_list.png)\n",
    "\n",
    "=> Schlüsselwörter sind immer klein geschrieben, außer True, False und None.\n",
    "=> Wie bei einer natürlichen Sprache, müssen die Schlüsselwörter genau so geschrieben werden, wie sie hier stehen.\n",
    "=> Die gute Nachricht: Sie brauchen am Anfang nur wenige davon und lernen deren Bedeutung nach und nach kennen.\n",
    "\n",
    "Beispiel:\n",
    "True und False sind die Werte für wahr und falsch. Oft will man beim Programmieren überprüfen, ob eine Bedingung erfüllt ist. Das macht mit diesen sogenannten boolschen Werten.\n",
    "not ist das \"Gegenteil\". not True ist also False.\n",
    "\n",
    "### Aufgabe\n",
    "\n",
    "=> Was ist not False?\n",
    "=> Probieren Sie es aus und geben Sie mit Hilfe von print( ... ) not False aus!"
   ]
  },
  {
   "cell_type": "code",
   "execution_count": 7,
   "metadata": {
    "collapsed": false
   },
   "outputs": [
    {
     "name": "stdout",
     "output_type": "stream",
     "text": [
      "True\n"
     ]
    }
   ],
   "source": [
    "# Geben Sie mit print( ... ) not False aus!\n",
    "# Tippen Sie Ihr Ergebnis in die nächste Zeile und führen Sie die Zelle aus.\n",
    "\n",
    "print (not False)\n"
   ]
  },
  {
   "cell_type": "markdown",
   "metadata": {
    "collapsed": false
   },
   "source": [
    "### Operatoren in Python\n",
    "\n",
    "Operatoren werden dazu benutzt, Berechnungen oder Zuweisungen darzustellen.\n",
    "\n",
    "Z.B. 4 + 2 ist eine Berechnung\n",
    "Auch \"Python \" + \"ist toll\" kann mit Hilfe eines Operators 'berechnet' werden.\n",
    "\n",
    "=> Python ist hier sehr komfortabel - Anders als in manch anderer Programmiersprache, sind die Operatoren sehr intuitiv.\n",
    "\n",
    "![image](../img/operators.png)\n",
    "\n",
    "### Aufgabe\n",
    "=> Was ist vier mal zwei? Propieren Sie es aus, indem Sie mit Hilfe des print ( ... ) Befehls vier mal zwei berechnen.\n",
    "=> Was ist der Rest, wenn man (ganzzahlig) zehn durch vier teilt?\n",
    "=> Kommt 'y' nach 'x'?"
   ]
  },
  {
   "cell_type": "code",
   "execution_count": 13,
   "metadata": {
    "collapsed": false
   },
   "outputs": [
    {
     "name": "stdout",
     "output_type": "stream",
     "text": [
      "8\n",
      "2\n",
      "True\n"
     ]
    },
    {
     "name": "stderr",
     "output_type": "stream",
     "text": [
      "Bad pipe message: %s [b'4\\xcf\\x16<\\xa1\\x1d\\xee\\x990i\\xd9\\xacQ\\x13\\t\\x7f\\x10\\x9f \\x17\\\\\\xa1?E\\x9d\\x92\\xb1IbE\\x1e\\x03\\x97:NJQ\\xd4\\x97\\x97\\x9a\\\\\\xa6\\x81A\\xfemJ=J\\xfb\\x00\\x08\\x13\\x02\\x13\\x03\\x13\\x01\\x00\\xff\\x01\\x00\\x00\\x8f\\x00\\x00\\x00\\x0e\\x00\\x0c\\x00\\x00\\t127.0.0.1\\x00\\x0b\\x00\\x04\\x03\\x00\\x01\\x02\\x00\\n\\x00\\x0c\\x00\\n\\x00\\x1d\\x00\\x17\\x00\\x1e\\x00\\x19\\x00\\x18\\x00#\\x00\\x00\\x00\\x16\\x00\\x00\\x00\\x17\\x00\\x00\\x00\\r\\x00\\x1e\\x00\\x1c\\x04\\x03\\x05\\x03', b'\\x08\\x07\\x08\\x08\\x08', b'\\n\\x08\\x0b\\x08\\x04\\x08\\x05\\x08']\n",
      "Bad pipe message: %s [b'\\x01\\x05\\x01\\x06\\x01']\n",
      "Bad pipe message: %s [b'5\\xd9\\xd1\\x14\\x1cb\\xfd\\x8bF\\x06F\\xa6y\\xee@\\xc3\\x06\\xff \\x98Y\\xb3!\"v\\x0e\\x8cay\\x1a{/\\xe6\\xc9\\xaf\\xf6\\xfbo9\\xa9b\\x8e!F\\xd0\\x10=\\xe6\\x9c']\n",
      "Bad pipe message: %s [b'\\x00\\x08\\x13\\x02\\x13\\x03\\x13\\x01\\x00\\xff\\x01\\x00\\x00\\x8f\\x00\\x00\\x00\\x0e\\x00\\x0c\\x00\\x00\\t127.0.0.1\\x00\\x0b\\x00\\x04\\x03\\x00\\x01\\x02\\x00\\n\\x00\\x0c\\x00\\n\\x00']\n",
      "Bad pipe message: %s [b'\\x17\\x00\\x1e\\x00\\x19\\x00\\x18\\x00#\\x00\\x00\\x00\\x16\\x00\\x00\\x00\\x17\\x00\\x00\\x00\\r\\x00\\x1e\\x00\\x1c\\x04\\x03\\x05']\n",
      "Bad pipe message: %s [b'\\x03\\x08']\n",
      "Bad pipe message: %s [b'\\x08\\x08\\t\\x08\\n\\x08']\n",
      "Bad pipe message: %s [b'\\x04\\x08\\x05\\x08\\x06\\x04\\x01\\x05\\x01\\x06']\n",
      "Bad pipe message: %s [b'']\n",
      "Bad pipe message: %s [b'\\x03\\x02\\x03\\x04\\x00-\\x00\\x02\\x01\\x01\\x003\\x00&\\x00$\\x00\\x1d\\x00 \\xf2\\xdbL4\\xdc\\x9b\\xecf\\xb8\\x9e\\xa8\\t\\xa6\\xd7\\x16\\x05\\xbb\\t\\xed\\xdc\\x86h']\n",
      "Bad pipe message: %s [b'|Js\\xe6\\xdba\\xbf;\\\\\\xd1\\xdf\\x99\\xd0\\x9c\\xb6\\xde\\xea\\n\\x00\\x00\\xa6\\xc0,\\xc00\\x00\\xa3\\x00\\x9f\\xcc\\xa9\\xcc\\xa8\\xcc\\xaa\\xc0\\xaf\\xc0']\n",
      "Bad pipe message: %s [b\"\\xa3\\xc0\\x9f\\xc0]\\xc0a\\xc0W\\xc0S\\xc0+\\xc0/\\x00\\xa2\\x00\\x9e\\xc0\\xae\\xc0\\xac\\xc0\\xa2\\xc0\\x9e\\xc0\\\\\\xc0`\\xc0V\\xc0R\\xc0$\\xc0(\\x00k\\x00j\\xc0s\\xc0w\\x00\\xc4\\x00\\xc3\\xc0#\\xc0'\\x00g\\x00@\\xc0r\\xc0v\\x00\\xbe\\x00\\xbd\\xc0\\n\\xc0\\x14\\x009\\x008\\x00\\x88\\x00\\x87\\xc0\\t\\xc0\\x13\\x003\\x002\\x00\\x9a\\x00\\x99\\x00E\\x00D\\xc0\\x07\\xc0\\x11\\xc0\\x08\\xc0\\x12\\x00\\x16\\x00\\x13\\x00\\x9d\\xc0\\xa1\\xc0\\x9d\\xc0Q\\x00\\x9c\\xc0\\xa0\\xc0\\x9c\\xc0P\\x00=\\x00\\xc0\\x00<\\x00\\xba\\x005\\x00\\x84\\x00/\\x00\\x96\\x00A\\x00\\x05\\x00\\n\\x00\\xff\\x01\\x00\\x00j\\x00\\x00\\x00\\x0e\\x00\\x0c\\x00\\x00\\t127.0.0.1\\x00\\x0b\\x00\"]\n",
      "Bad pipe message: %s [b'\\xc7\\x12\\x11\\x01s\\xcc\\x8ch\\xa8--\\xdcM\\xa1]\\xb3(\\xbb\\x00\\x00>\\xc0\\x14\\xc0\\n\\x009\\x008\\x007\\x006\\xc0\\x0f\\xc0\\x05\\x005\\xc0\\x13\\xc0\\t\\x003\\x002\\x001\\x000\\xc0\\x0e\\xc0\\x04\\x00/\\x00\\x9a\\x00\\x99\\x00\\x98\\x00\\x97\\x00\\x96\\x00\\x07\\xc0\\x11\\xc0\\x07\\xc0\\x0c\\xc0\\x02\\x00\\x05\\x00\\x04\\x00\\xff\\x02\\x01\\x00\\x00C\\x00\\x00\\x00\\x0e\\x00\\x0c\\x00\\x00\\t127.0', b'.1\\x00\\x0b\\x00\\x04\\x03\\x00\\x01\\x02\\x00\\n\\x00\\x1c\\x00\\x1a\\x00\\x17\\x00\\x19\\x00\\x1c\\x00\\x1b\\x00\\x18\\x00\\x1a\\x00\\x16\\x00\\x0e\\x00\\r\\x00\\x0b\\x00\\x0c\\x00\\t\\x00\\n\\x00#\\x00']\n",
      "Bad pipe message: %s [b'\\x9aj5\\x0e1\\x8b\\\\[\\xc0\\x0c\\x7f\\xee\\xf7\\xac\\x10\\xf8\"\\x05\\x00\\x00\\xa2\\xc0\\x14\\xc0\\n\\x009\\x008\\x007\\x006\\x00\\x88\\x00\\x87\\x00\\x86\\x00\\x85\\xc0\\x19\\x00:\\x00\\x89\\xc0\\x0f\\xc0\\x05\\x005\\x00\\x84\\xc0\\x13\\xc0\\t\\x003\\x002\\x001\\x000\\x00\\x9a\\x00\\x99\\x00\\x98\\x00\\x97\\x00E\\x00D\\x00C\\x00B\\xc0\\x18\\x004\\x00\\x9b\\x00F\\xc0\\x0e\\xc0\\x04\\x00/\\x00\\x96\\x00A\\x00\\x07\\xc0\\x11\\xc0\\x07\\xc0\\x16\\x00\\x18\\xc0\\x0c\\xc0\\x02\\x00\\x05\\x00\\x04\\xc0\\x12\\xc0\\x08\\x00\\x16\\x00\\x13\\x00\\x10\\x00\\r\\xc0\\x17\\x00\\x1b\\xc0\\r\\xc0\\x03\\x00\\n\\x00\\x15\\x00\\x12\\x00\\x0f\\x00\\x0c\\x00\\x1a\\x00\\t\\x00\\x14\\x00\\x11\\x00\\x19\\x00']\n",
      "Bad pipe message: %s [b'\\x06\\x00\\x17\\x00\\x03\\xc0\\x10']\n",
      "Bad pipe message: %s [b'\\x13F\\x0e\\xf7\\x91{\\xb7\\xba\\xdc=\\x15zh5\\x97(!\\x8b\\x00']\n",
      "Bad pipe message: %s [b\"\\rBi\\x95\\xd4MK0\\xac\\x95\\x19@\\xcd\\x17\\xa0\\x96\\xe2 \\x00\\x00\\xf4\\xc00\\xc0,\\xc0(\\xc0$\\xc0\\x14\\xc0\\n\\x00\\xa5\\x00\\xa3\\x00\\xa1\\x00\\x9f\\x00k\\x00j\\x00i\\x00h\\x009\\x008\\x007\\x006\\x00\\x88\\x00\\x87\\x00\\x86\\x00\\x85\\xc0\\x19\\x00\\xa7\\x00m\\x00:\\x00\\x89\\xc02\\xc0.\\xc0*\\xc0&\\xc0\\x0f\\xc0\\x05\\x00\\x9d\\x00=\\x005\\x00\\x84\\xc0/\\xc0+\\xc0'\\xc0#\\xc0\\x13\\xc0\\t\\x00\\xa4\\x00\\xa2\\x00\\xa0\\x00\\x9e\\x00g\\x00@\\x00?\\x00>\\x003\\x002\\x001\\x000\\x00\\x9a\\x00\\x99\\x00\\x98\\x00\\x97\\x00E\\x00D\\x00C\\x00B\\xc0\\x18\\x00\\xa6\\x00l\\x004\\x00\\x9b\\x00\"]\n",
      "Bad pipe message: %s [b'1\\xc0-\\xc0)\\xc0%\\xc0\\x0e\\xc0\\x04\\x00\\x9c\\x00<\\x00/\\x00\\x96\\x00A\\x00\\x07\\xc0\\x11\\xc0\\x07\\xc0\\x16\\x00\\x18\\xc0\\x0c\\xc0\\x02\\x00\\x05\\x00\\x04\\xc0\\x12\\xc0\\x08\\x00\\x16\\x00\\x13\\x00\\x10\\x00\\r\\xc0\\x17\\x00\\x1b\\xc0\\r\\xc0\\x03\\x00\\n\\x00\\x15\\x00\\x12\\x00\\x0f\\x00\\x0c']\n"
     ]
    }
   ],
   "source": [
    "# Berechnen Sie mit Hilfe des print ( ... ) Befehls vier mal zwei\n",
    "\n",
    "\n",
    "# Was ist der Rest, wenn man (ganzzahlig) zehn durch vier teilt?\n",
    "\n",
    "\n",
    "# Kommt 'y' nach 'x'?\n",
    "\n",
    "print(4*2)\n",
    "print(10%4)\n",
    "print(\"Y\">\"X\")"
   ]
  },
  {
   "cell_type": "markdown",
   "metadata": {
    "collapsed": false
   },
   "source": [
    "### Variablen und Funktionen\n",
    "Variablen und Funktionen behandeln wir in den folgenden Jupyter Notebooks."
   ]
  },
  {
   "cell_type": "code",
   "execution_count": null,
   "metadata": {
    "collapsed": false
   },
   "outputs": [],
   "source": []
  }
 ],
 "metadata": {
  "kernelspec": {
   "display_name": "Python 3",
   "language": "python",
   "name": "python3"
  },
  "language_info": {
   "codemirror_mode": {
    "name": "ipython",
    "version": 3
   },
   "file_extension": ".py",
   "mimetype": "text/x-python",
   "name": "python",
   "nbconvert_exporter": "python",
   "pygments_lexer": "ipython3",
   "version": "3.10.4"
  }
 },
 "nbformat": 4,
 "nbformat_minor": 0
}
