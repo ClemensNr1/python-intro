{
 "cells": [
  {
   "cell_type": "markdown",
   "source": [
    "# Variablen\n",
    "\n",
    "Wäre es nicht praktisch, wenn man all die Ausgaben der vorigen Lektion (also z.B. 4+2) auch zwischenspeichern kann?\n",
    "\n",
    "=> Hierfür gibt es Variablen.\n",
    "=> Sie können Zahlen, Texte, aber z.B. auch eine Liste oder Bilder speichern.\n",
    "=>\n"
   ],
   "metadata": {
    "collapsed": false
   }
  },
  {
   "cell_type": "code",
   "execution_count": null,
   "outputs": [],
   "source": [],
   "metadata": {
    "collapsed": false
   }
  }
 ],
 "metadata": {
  "kernelspec": {
   "display_name": "Python 3",
   "language": "python",
   "name": "python3"
  },
  "language_info": {
   "codemirror_mode": {
    "name": "ipython",
    "version": 2
   },
   "file_extension": ".py",
   "mimetype": "text/x-python",
   "name": "python",
   "nbconvert_exporter": "python",
   "pygments_lexer": "ipython2",
   "version": "2.7.6"
  }
 },
 "nbformat": 4,
 "nbformat_minor": 0
}
